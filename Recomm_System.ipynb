{
 "cells": [
  {
   "cell_type": "markdown",
   "metadata": {
    "collapsed": true
   },
   "source": [
    "# Case Study  - Movies"
   ]
  },
  {
   "cell_type": "markdown",
   "metadata": {},
   "source": [
    "# Identification Information"
   ]
  },
  {
   "cell_type": "markdown",
   "metadata": {},
   "source": [
    "# Setup"
   ]
  },
  {
   "cell_type": "code",
   "execution_count": 1,
   "metadata": {},
   "outputs": [
    {
     "name": "stderr",
     "output_type": "stream",
     "text": [
      "Installing package into ‘/home/nbuser/R’\n",
      "(as ‘lib’ is unspecified)\n",
      "also installing the dependency ‘irlba’\n",
      "\n"
     ]
    }
   ],
   "source": [
    "install.packages('recommenderlab')"
   ]
  },
  {
   "cell_type": "markdown",
   "metadata": {},
   "source": [
    "# Import"
   ]
  },
  {
   "cell_type": "code",
   "execution_count": 3,
   "metadata": {},
   "outputs": [],
   "source": [
    "library('recommenderlab')"
   ]
  },
  {
   "cell_type": "code",
   "execution_count": null,
   "metadata": {},
   "outputs": [],
   "source": [
    "# Data"
   ]
  },
  {
   "cell_type": "code",
   "execution_count": 4,
   "metadata": {},
   "outputs": [
    {
     "name": "stdout",
     "output_type": "stream",
     "text": [
      "'data.frame':\t100000 obs. of  3 variables:\n",
      " $ user_id: int  196 186 22 244 166 298 115 253 305 6 ...\n",
      " $ item_id: int  242 302 377 51 346 474 265 465 451 86 ...\n",
      " $ rating : int  3 3 1 2 1 4 2 5 3 3 ...\n"
     ]
    }
   ],
   "source": [
    "data = read.table('u.data.txt', col.names = c(\"user_id\", \"item_id\", \"rating\", \"timestamp\") )\n",
    "data = data[ , -which(names(data) %in% c(\"timestamp\"))]\n",
    "str(data)"
   ]
  },
  {
   "cell_type": "code",
   "execution_count": 7,
   "metadata": {},
   "outputs": [
    {
     "data": {
      "text/plain": [
       "    user_id         item_id           rating    \n",
       " Min.   :  1.0   Min.   :   1.0   Min.   :1.00  \n",
       " 1st Qu.:254.0   1st Qu.: 175.0   1st Qu.:3.00  \n",
       " Median :447.0   Median : 322.0   Median :4.00  \n",
       " Mean   :462.5   Mean   : 425.5   Mean   :3.53  \n",
       " 3rd Qu.:682.0   3rd Qu.: 631.0   3rd Qu.:4.00  \n",
       " Max.   :943.0   Max.   :1682.0   Max.   :5.00  "
      ]
     },
     "metadata": {},
     "output_type": "display_data"
    }
   ],
   "source": [
    "summary(data)"
   ]
  },
  {
   "cell_type": "code",
   "execution_count": 9,
   "metadata": {},
   "outputs": [
    {
     "data": {
      "text/plain": [
       "\n",
       "    1     2     3     4     5 \n",
       " 6110 11370 27145 34174 21201 "
      ]
     },
     "metadata": {},
     "output_type": "display_data"
    }
   ],
   "source": [
    "table(data$rating)"
   ]
  },
  {
   "cell_type": "code",
   "execution_count": 10,
   "metadata": {},
   "outputs": [
    {
     "data": {
      "text/html": [
       "3.52986"
      ],
      "text/latex": [
       "3.52986"
      ],
      "text/markdown": [
       "3.52986"
      ],
      "text/plain": [
       "[1] 3.52986"
      ]
     },
     "metadata": {},
     "output_type": "display_data"
    }
   ],
   "source": [
    "mean(data$rating) "
   ]
  },
  {
   "cell_type": "code",
   "execution_count": 29,
   "metadata": {},
   "outputs": [
    {
     "name": "stderr",
     "output_type": "stream",
     "text": [
      "Installing package into ‘/home/nbuser/R’\n",
      "(as ‘lib’ is unspecified)\n"
     ]
    }
   ],
   "source": [
    "install.packages(\"ggplot2\")\n",
    "library(ggplot2)\n"
   ]
  },
  {
   "cell_type": "code",
   "execution_count": 41,
   "metadata": {},
   "outputs": [
    {
     "data": {},
     "metadata": {},
     "output_type": "display_data"
    },
    {
     "data": {
      "image/jpeg": "[encoded data removed]",
      "image/png": "",
      "image/svg+xml": [
       "<?xml version=\"1.0\" encoding=\"UTF-8\"?>\n",
       "<svg xmlns=\"http://www.w3.org/2000/svg\" xmlns:xlink=\"http://www.w3.org/1999/xlink\" width=\"288pt\" height=\"216pt\" viewBox=\"0 0 288 216\" version=\"1.1\">\n",
       "<defs>\n",
       "<g>\n",
       "<symbol overflow=\"visible\" id=\"glyph0-0\">\n",
       "<path style=\"stroke:none;\" d=\"\"/>\n",
       "</symbol>\n",
       "<symbol overflow=\"visible\" id=\"glyph0-1\">\n",
       "<path style=\"stroke:none;\" d=\"M 4.875 -3.3125 C 4.875 -5.59375 3.984375 -6.875 2.5625 -6.875 C 1.140625 -6.875 0.234375 -5.578125 0.234375 -3.359375 C 0.234375 -1.140625 1.140625 0.140625 2.5625 0.140625 C 3.953125 0.140625 4.875 -1.140625 4.875 -3.3125 Z M 3.703125 -3.390625 C 3.703125 -1.515625 3.453125 -0.8125 2.53125 -0.8125 C 1.671875 -0.8125 1.390625 -1.546875 1.390625 -3.359375 C 1.390625 -5.15625 1.671875 -5.859375 2.5625 -5.859375 C 3.4375 -5.859375 3.703125 -5.15625 3.703125 -3.390625 Z M 3.703125 -3.390625 \"/>\n",
       "</symbol>\n",
       "<symbol overflow=\"visible\" id=\"glyph0-2\">\n",
       "<path style=\"stroke:none;\" d=\"M 3.390625 -0.140625 L 3.390625 -6.875 L 2.5625 -6.875 C 2.234375 -5.71875 2.21875 -5.71875 0.78125 -5.546875 L 0.78125 -4.6875 L 2.234375 -4.6875 L 2.234375 0 L 3.390625 0 Z M 3.390625 -0.140625 \"/>\n",
       "</symbol>\n",
       "<symbol overflow=\"visible\" id=\"glyph0-3\">\n",
       "<path style=\"stroke:none;\" d=\"M 4.90625 -4.796875 C 4.90625 -5.90625 3.890625 -6.875 2.640625 -6.875 C 1.296875 -6.875 0.34375 -6.046875 0.296875 -4.296875 L 1.4375 -4.296875 C 1.5 -5.546875 1.796875 -5.875 2.609375 -5.875 C 3.359375 -5.875 3.75 -5.484375 3.75 -4.78125 C 3.75 -4.265625 3.484375 -3.90625 2.90625 -3.578125 L 2.046875 -3.09375 C 0.671875 -2.3125 0.21875 -1.59375 0.140625 0 L 4.859375 0 L 4.859375 -1.09375 L 1.40625 -1.09375 C 1.484375 -1.484375 1.734375 -1.734375 2.53125 -2.203125 L 3.46875 -2.703125 C 4.390625 -3.203125 4.90625 -3.984375 4.90625 -4.796875 Z M 4.90625 -4.796875 \"/>\n",
       "</symbol>\n",
       "<symbol overflow=\"visible\" id=\"glyph0-4\">\n",
       "<path style=\"stroke:none;\" d=\"M 4.859375 -2.046875 C 4.859375 -2.859375 4.375 -3.453125 3.59375 -3.734375 L 3.59375 -3.453125 C 4.203125 -3.6875 4.671875 -4.265625 4.671875 -4.921875 C 4.671875 -6.046875 3.75 -6.875 2.5 -6.875 C 1.171875 -6.875 0.296875 -6 0.265625 -4.46875 L 1.40625 -4.46875 C 1.4375 -5.578125 1.671875 -5.875 2.515625 -5.875 C 3.234375 -5.875 3.5 -5.59375 3.5 -4.890625 C 3.5 -4.1875 3.359375 -4.03125 1.890625 -4.03125 L 1.890625 -3.0625 L 2.5 -3.0625 C 3.40625 -3.0625 3.703125 -2.78125 3.703125 -2.046875 C 3.703125 -1.21875 3.359375 -0.859375 2.5 -0.859375 C 1.609375 -0.859375 1.328125 -1.171875 1.265625 -2.265625 L 0.125 -2.265625 C 0.234375 -0.65625 1.125 0.140625 2.46875 0.140625 C 3.828125 0.140625 4.859375 -0.8125 4.859375 -2.046875 Z M 4.859375 -2.046875 \"/>\n",
       "</symbol>\n",
       "<symbol overflow=\"visible\" id=\"glyph0-5\">\n",
       "<path style=\"stroke:none;\" d=\"M 5 -1.71875 L 5 -2.59375 L 4.015625 -2.59375 L 4.015625 -6.875 L 3.171875 -6.875 L 0.09375 -2.609375 L 0.09375 -1.578125 L 2.875 -1.578125 L 2.875 0 L 4.015625 0 L 4.015625 -1.578125 L 5 -1.578125 Z M 3.046875 -2.59375 L 1.265625 -2.59375 L 3.15625 -5.234375 L 2.875 -5.34375 L 2.875 -2.59375 Z M 3.046875 -2.59375 \"/>\n",
       "</symbol>\n",
       "<symbol overflow=\"visible\" id=\"glyph0-6\">\n",
       "<path style=\"stroke:none;\" d=\"M 4.921875 -2.328125 C 4.921875 -3.625 3.90625 -4.625 2.640625 -4.625 C 2.171875 -4.625 1.6875 -4.46875 1.640625 -4.421875 L 1.828125 -5.640625 L 4.578125 -5.640625 L 4.578125 -6.734375 L 0.875 -6.734375 L 0.34375 -3 L 1.359375 -3 C 1.78125 -3.5 1.984375 -3.609375 2.484375 -3.609375 C 3.375 -3.609375 3.765625 -3.1875 3.765625 -2.21875 C 3.765625 -1.265625 3.390625 -0.859375 2.484375 -0.859375 C 1.78125 -0.859375 1.5 -1.09375 1.265625 -1.96875 L 0.125 -1.96875 C 0.421875 -0.515625 1.34375 0.140625 2.515625 0.140625 C 3.84375 0.140625 4.921875 -0.9375 4.921875 -2.328125 Z M 4.921875 -2.328125 \"/>\n",
       "</symbol>\n",
       "<symbol overflow=\"visible\" id=\"glyph1-0\">\n",
       "<path style=\"stroke:none;\" d=\"\"/>\n",
       "</symbol>\n",
       "<symbol overflow=\"visible\" id=\"glyph1-1\">\n",
       "<path style=\"stroke:none;\" d=\"M 7.9375 -0.125 L 7.9375 -0.453125 C 7.5 -0.765625 7.4375 -0.96875 7.421875 -2.078125 C 7.40625 -3.46875 7.078125 -4 6.15625 -4.390625 L 6.15625 -4.140625 C 7.109375 -4.59375 7.609375 -5.3125 7.609375 -6.265625 C 7.609375 -7.71875 6.578125 -8.640625 4.9375 -8.640625 L 0.9375 -8.640625 L 0.9375 0 L 2.265625 0 L 2.265625 -3.609375 L 4.90625 -3.609375 C 5.84375 -3.609375 6.15625 -3.28125 6.140625 -2.25 L 6.125 -1.5 C 6.125 -0.984375 6.21875 -0.46875 6.421875 0 L 7.9375 0 Z M 6.234375 -6.125 C 6.234375 -5.125 5.859375 -4.8125 4.71875 -4.8125 L 2.265625 -4.8125 L 2.265625 -7.4375 L 4.71875 -7.4375 C 5.921875 -7.4375 6.234375 -7.0625 6.234375 -6.125 Z M 6.234375 -6.125 \"/>\n",
       "</symbol>\n",
       "<symbol overflow=\"visible\" id=\"glyph1-2\">\n",
       "<path style=\"stroke:none;\" d=\"M 6.28125 -0.15625 L 6.28125 -1.03125 C 6.046875 -0.984375 6 -0.984375 5.953125 -0.984375 C 5.609375 -0.984375 5.546875 -1.03125 5.546875 -1.328125 L 5.546875 -4.6875 C 5.546875 -5.75 4.640625 -6.453125 3.15625 -6.453125 C 1.703125 -6.453125 0.671875 -5.765625 0.609375 -4.25 L 1.828125 -4.25 C 1.921875 -5.109375 2.234375 -5.3125 3.125 -5.3125 C 3.984375 -5.3125 4.328125 -5.125 4.328125 -4.546875 L 4.328125 -4.296875 C 4.328125 -3.890625 4.234375 -3.84375 3.46875 -3.75 C 2.109375 -3.578125 1.90625 -3.53125 1.546875 -3.375 C 0.84375 -3.09375 0.34375 -2.421875 0.34375 -1.6875 C 0.34375 -0.59375 1.234375 0.171875 2.46875 0.171875 C 3.234375 0.171875 4.078125 -0.1875 4.421875 -0.578125 C 4.46875 -0.375 5.03125 0.078125 5.5 0.078125 C 5.6875 0.078125 5.84375 0.0625 6.28125 -0.046875 Z M 4.328125 -2.203125 C 4.328125 -1.34375 3.59375 -0.921875 2.671875 -0.921875 C 1.921875 -0.921875 1.609375 -1.0625 1.609375 -1.71875 C 1.609375 -2.34375 1.90625 -2.5 2.9375 -2.640625 C 3.9375 -2.78125 4.15625 -2.828125 4.328125 -2.90625 Z M 4.328125 -2.203125 \"/>\n",
       "</symbol>\n",
       "<symbol overflow=\"visible\" id=\"glyph1-3\">\n",
       "<path style=\"stroke:none;\" d=\"M 3.046875 -0.125 L 3.046875 -1.109375 C 2.796875 -1.03125 2.640625 -1.015625 2.46875 -1.015625 C 2.046875 -1.015625 2.0625 -1 2.0625 -1.421875 L 2.0625 -5.25 L 3.046875 -5.25 L 3.046875 -6.28125 L 2.0625 -6.28125 L 2.0625 -7.9375 L 0.84375 -7.9375 L 0.84375 -6.28125 L 0.015625 -6.28125 L 0.015625 -5.25 L 0.84375 -5.25 L 0.84375 -1 C 0.84375 -0.390625 1.390625 0.078125 2.140625 0.078125 C 2.375 0.078125 2.59375 0.0625 3.046875 -0.015625 Z M 3.046875 -0.125 \"/>\n",
       "</symbol>\n",
       "<symbol overflow=\"visible\" id=\"glyph1-4\">\n",
       "<path style=\"stroke:none;\" d=\"M 1.890625 -0.125 L 1.890625 -6.28125 L 0.671875 -6.28125 L 0.671875 0 L 1.890625 0 Z M 2.015625 -7.0625 L 2.015625 -8.390625 L 0.546875 -8.390625 L 0.546875 -6.9375 L 2.015625 -6.9375 Z M 2.015625 -7.0625 \"/>\n",
       "</symbol>\n",
       "<symbol overflow=\"visible\" id=\"glyph1-5\">\n",
       "<path style=\"stroke:none;\" d=\"M 5.734375 -0.125 L 5.734375 -4.6875 C 5.734375 -5.6875 4.859375 -6.453125 3.6875 -6.453125 C 2.796875 -6.453125 2.109375 -6.078125 1.59375 -5.234375 L 1.8125 -5.140625 L 1.8125 -6.28125 L 0.671875 -6.28125 L 0.671875 0 L 1.890625 0 L 1.890625 -3.453125 C 1.890625 -4.6875 2.421875 -5.359375 3.40625 -5.359375 C 4.15625 -5.359375 4.515625 -5.03125 4.515625 -4.296875 L 4.515625 0 L 5.734375 0 Z M 5.734375 -0.125 \"/>\n",
       "</symbol>\n",
       "<symbol overflow=\"visible\" id=\"glyph1-6\">\n",
       "<path style=\"stroke:none;\" d=\"M 5.75 -1.109375 L 5.75 -6.28125 L 4.59375 -6.28125 L 4.59375 -5.28125 L 4.828125 -5.375 C 4.34375 -6.078125 3.671875 -6.453125 2.890625 -6.453125 C 1.375 -6.453125 0.203125 -5.03125 0.203125 -3.078125 C 0.203125 -1.1875 1.40625 0.171875 2.8125 0.171875 C 3.578125 0.171875 4.203125 -0.1875 4.828125 -0.9375 L 4.59375 -1.03125 L 4.59375 -0.625 C 4.59375 0.96875 4.078125 1.453125 2.96875 1.453125 C 2.203125 1.453125 1.75 1.296875 1.609375 0.4375 L 0.375 0.4375 C 0.5 1.703125 1.515625 2.5 2.9375 2.5 C 4.8125 2.5 5.75 1.546875 5.75 -1.109375 Z M 4.515625 -3.109375 C 4.515625 -1.671875 4.03125 -0.96875 3.015625 -0.96875 C 1.96875 -0.96875 1.453125 -1.671875 1.453125 -3.140625 C 1.453125 -4.59375 1.984375 -5.3125 3 -5.3125 C 4.03125 -5.3125 4.515625 -4.5625 4.515625 -3.109375 Z M 4.515625 -3.109375 \"/>\n",
       "</symbol>\n",
       "<symbol overflow=\"visible\" id=\"glyph2-0\">\n",
       "<path style=\"stroke:none;\" d=\"\"/>\n",
       "</symbol>\n",
       "<symbol overflow=\"visible\" id=\"glyph2-1\">\n",
       "<path style=\"stroke:none;\" d=\"M -3.3125 -7.78125 L -3.3125 -6.5625 C -1.59375 -6.296875 -0.984375 -5.765625 -0.984375 -4.34375 C -0.984375 -2.671875 -2.140625 -1.75 -4.234375 -1.75 C -6.375 -1.75 -7.640625 -2.640625 -7.640625 -4.25 C -7.640625 -5.5625 -7.1875 -6.125 -5.78125 -6.40625 L -5.78125 -7.765625 C -7.75 -7.40625 -8.84375 -6.21875 -8.84375 -4.375 C -8.84375 -1.84375 -6.671875 -0.40625 -4.21875 -0.40625 C -1.765625 -0.40625 0.203125 -1.875 0.203125 -4.328125 C 0.203125 -6.375 -1 -7.65625 -3.3125 -7.921875 Z M -3.3125 -7.78125 \"/>\n",
       "</symbol>\n",
       "<symbol overflow=\"visible\" id=\"glyph2-2\">\n",
       "<path style=\"stroke:none;\" d=\"M -3.09375 -5.984375 C -5.171875 -5.984375 -6.453125 -4.859375 -6.453125 -3.125 C -6.453125 -1.4375 -5.15625 -0.28125 -3.140625 -0.28125 C -1.109375 -0.28125 0.171875 -1.421875 0.171875 -3.140625 C 0.171875 -4.828125 -1.109375 -5.984375 -3.09375 -5.984375 Z M -3.109375 -4.71875 C -1.6875 -4.71875 -0.96875 -4.203125 -0.96875 -3.140625 C -0.96875 -2.0625 -1.671875 -1.546875 -3.140625 -1.546875 C -4.59375 -1.546875 -5.3125 -2.0625 -5.3125 -3.140625 C -5.3125 -4.21875 -4.59375 -4.71875 -3.109375 -4.71875 Z M -3.109375 -4.71875 \"/>\n",
       "</symbol>\n",
       "<symbol overflow=\"visible\" id=\"glyph2-3\">\n",
       "<path style=\"stroke:none;\" d=\"M -0.125 -5.671875 L -6.28125 -5.671875 L -6.28125 -4.453125 L -2.828125 -4.453125 C -1.59375 -4.453125 -0.921875 -3.9375 -0.921875 -2.9375 C -0.921875 -2.1875 -1.25 -1.828125 -1.984375 -1.828125 L -6.28125 -1.828125 L -6.28125 -0.609375 L -1.59375 -0.609375 C -0.59375 -0.609375 0.171875 -1.5 0.171875 -2.671875 C 0.171875 -3.546875 -0.171875 -4.203125 -0.96875 -4.765625 L -1.0625 -4.546875 L 0 -4.546875 L 0 -5.671875 Z M -0.125 -5.671875 \"/>\n",
       "</symbol>\n",
       "<symbol overflow=\"visible\" id=\"glyph2-4\">\n",
       "<path style=\"stroke:none;\" d=\"M -0.125 -5.734375 L -4.6875 -5.734375 C -5.6875 -5.734375 -6.453125 -4.859375 -6.453125 -3.6875 C -6.453125 -2.796875 -6.078125 -2.109375 -5.234375 -1.59375 L -5.140625 -1.8125 L -6.28125 -1.8125 L -6.28125 -0.671875 L 0 -0.671875 L 0 -1.890625 L -3.453125 -1.890625 C -4.6875 -1.890625 -5.359375 -2.421875 -5.359375 -3.40625 C -5.359375 -4.15625 -5.03125 -4.515625 -4.296875 -4.515625 L 0 -4.515625 L 0 -5.734375 Z M -0.125 -5.734375 \"/>\n",
       "</symbol>\n",
       "<symbol overflow=\"visible\" id=\"glyph2-5\">\n",
       "<path style=\"stroke:none;\" d=\"M -0.125 -3.046875 L -1.109375 -3.046875 C -1.03125 -2.796875 -1.015625 -2.640625 -1.015625 -2.46875 C -1.015625 -2.046875 -1 -2.0625 -1.421875 -2.0625 L -5.25 -2.0625 L -5.25 -3.046875 L -6.28125 -3.046875 L -6.28125 -2.0625 L -7.9375 -2.0625 L -7.9375 -0.84375 L -6.28125 -0.84375 L -6.28125 -0.015625 L -5.25 -0.015625 L -5.25 -0.84375 L -1 -0.84375 C -0.390625 -0.84375 0.078125 -1.390625 0.078125 -2.140625 C 0.078125 -2.375 0.0625 -2.59375 -0.015625 -3.046875 Z M -0.125 -3.046875 \"/>\n",
       "</symbol>\n",
       "<symbol overflow=\"visible\" id=\"glyph3-0\">\n",
       "<path style=\"stroke:none;\" d=\"\"/>\n",
       "</symbol>\n",
       "<symbol overflow=\"visible\" id=\"glyph3-1\">\n",
       "<path style=\"stroke:none;\" d=\"M 8.953125 -0.125 L 8.953125 -10.25 L 7.40625 -10.25 L 7.40625 -5.9375 L 2.53125 -5.9375 L 2.53125 -10.25 L 1 -10.25 L 1 0 L 2.53125 0 L 2.53125 -4.546875 L 7.40625 -4.546875 L 7.40625 0 L 8.953125 0 Z M 8.953125 -0.125 \"/>\n",
       "</symbol>\n",
       "<symbol overflow=\"visible\" id=\"glyph3-2\">\n",
       "<path style=\"stroke:none;\" d=\"M 2.21875 -0.125 L 2.21875 -7.4375 L 0.828125 -7.4375 L 0.828125 0 L 2.21875 0 Z M 2.375 -8.390625 L 2.375 -9.953125 L 0.6875 -9.953125 L 0.6875 -8.265625 L 2.375 -8.265625 Z M 2.375 -8.390625 \"/>\n",
       "</symbol>\n",
       "<symbol overflow=\"visible\" id=\"glyph3-3\">\n",
       "<path style=\"stroke:none;\" d=\"M 6.40625 -2.140625 C 6.40625 -3.203125 5.6875 -3.875 4.265625 -4.21875 L 3.171875 -4.484375 C 2.234375 -4.703125 1.953125 -4.859375 1.953125 -5.375 C 1.953125 -6.03125 2.421875 -6.328125 3.359375 -6.328125 C 4.28125 -6.328125 4.625 -6.0625 4.65625 -5.1875 L 6.125 -5.1875 C 6.109375 -6.71875 5.0625 -7.640625 3.390625 -7.640625 C 1.734375 -7.640625 0.5 -6.640625 0.5 -5.3125 C 0.5 -4.1875 1.21875 -3.53125 2.921875 -3.125 L 3.984375 -2.859375 C 4.78125 -2.671875 4.953125 -2.5625 4.953125 -2.046875 C 4.953125 -1.375 4.421875 -1.109375 3.421875 -1.109375 C 2.390625 -1.109375 1.953125 -1.21875 1.78125 -2.453125 L 0.3125 -2.453125 C 0.390625 -0.65625 1.453125 0.203125 3.328125 0.203125 C 5.140625 0.203125 6.40625 -0.75 6.40625 -2.140625 Z M 6.40625 -2.140625 \"/>\n",
       "</symbol>\n",
       "<symbol overflow=\"visible\" id=\"glyph3-4\">\n",
       "<path style=\"stroke:none;\" d=\"M 3.609375 -0.125 L 3.609375 -1.265625 C 3.328125 -1.171875 3.15625 -1.171875 2.9375 -1.171875 C 2.4375 -1.171875 2.421875 -1.171875 2.421875 -1.671875 L 2.421875 -6.25 L 3.609375 -6.25 L 3.609375 -7.4375 L 2.421875 -7.4375 L 2.421875 -9.40625 L 1.03125 -9.40625 L 1.03125 -7.4375 L 0.0625 -7.4375 L 0.0625 -6.25 L 1.03125 -6.25 L 1.03125 -1.171875 C 1.03125 -0.4375 1.65625 0.09375 2.546875 0.09375 C 2.828125 0.09375 3.09375 0.0625 3.609375 -0.015625 Z M 3.609375 -0.125 \"/>\n",
       "</symbol>\n",
       "<symbol overflow=\"visible\" id=\"glyph3-5\">\n",
       "<path style=\"stroke:none;\" d=\"M 7.109375 -3.65625 C 7.109375 -6.140625 5.796875 -7.640625 3.734375 -7.640625 C 1.71875 -7.640625 0.359375 -6.125 0.359375 -3.71875 C 0.359375 -1.296875 1.703125 0.203125 3.734375 0.203125 C 5.75 0.203125 7.109375 -1.296875 7.109375 -3.65625 Z M 5.65625 -3.671875 C 5.65625 -1.984375 5 -1.109375 3.734375 -1.109375 C 2.46875 -1.109375 1.8125 -1.96875 1.8125 -3.71875 C 1.8125 -5.4375 2.46875 -6.328125 3.734375 -6.328125 C 5.03125 -6.328125 5.65625 -5.453125 5.65625 -3.671875 Z M 5.65625 -3.671875 \"/>\n",
       "</symbol>\n",
       "<symbol overflow=\"visible\" id=\"glyph3-6\">\n",
       "<path style=\"stroke:none;\" d=\"M 6.828125 -1.296875 L 6.828125 -7.4375 L 5.515625 -7.4375 L 5.515625 -6.265625 L 5.734375 -6.359375 C 5.15625 -7.203125 4.375 -7.640625 3.453125 -7.640625 C 1.625 -7.640625 0.265625 -5.96875 0.265625 -3.640625 C 0.265625 -1.390625 1.671875 0.203125 3.359375 0.203125 C 4.265625 0.203125 4.96875 -0.203125 5.734375 -1.109375 L 5.515625 -1.203125 L 5.515625 -0.71875 C 5.515625 1.171875 4.859375 1.765625 3.53125 1.765625 C 2.625 1.765625 2.0625 1.578125 1.90625 0.5625 L 0.484375 0.5625 C 0.609375 2.0625 1.8125 2.984375 3.5 2.984375 C 5.734375 2.984375 6.828125 1.859375 6.828125 -1.296875 Z M 5.40625 -3.671875 C 5.40625 -1.953125 4.796875 -1.109375 3.59375 -1.109375 C 2.34375 -1.109375 1.71875 -1.96875 1.71875 -3.71875 C 1.71875 -5.4375 2.359375 -6.328125 3.578125 -6.328125 C 4.8125 -6.328125 5.40625 -5.40625 5.40625 -3.671875 Z M 5.40625 -3.671875 \"/>\n",
       "</symbol>\n",
       "<symbol overflow=\"visible\" id=\"glyph3-7\">\n",
       "<path style=\"stroke:none;\" d=\"M 4.515625 -6.296875 L 4.515625 -7.59375 C 4.203125 -7.625 4.109375 -7.640625 3.953125 -7.640625 C 3.21875 -7.640625 2.5625 -7.171875 1.90625 -6.09375 L 2.125 -6 L 2.125 -7.4375 L 0.828125 -7.4375 L 0.828125 0 L 2.21875 0 L 2.21875 -3.84375 C 2.21875 -5.46875 2.625 -6.15625 4.515625 -6.1875 Z M 4.515625 -6.296875 \"/>\n",
       "</symbol>\n",
       "<symbol overflow=\"visible\" id=\"glyph3-8\">\n",
       "<path style=\"stroke:none;\" d=\"M 7.453125 -0.15625 L 7.453125 -1.171875 C 7.203125 -1.125 7.15625 -1.125 7.078125 -1.125 C 6.6875 -1.125 6.59375 -1.1875 6.59375 -1.546875 L 6.59375 -5.546875 C 6.59375 -6.828125 5.53125 -7.640625 3.765625 -7.640625 C 2.03125 -7.640625 0.828125 -6.84375 0.734375 -5.0625 L 2.15625 -5.0625 C 2.265625 -6.0625 2.65625 -6.328125 3.734375 -6.328125 C 4.75 -6.328125 5.1875 -6.078125 5.1875 -5.390625 L 5.1875 -5.078125 C 5.1875 -4.609375 5.046875 -4.53125 4.140625 -4.421875 C 2.515625 -4.21875 2.28125 -4.171875 1.84375 -3.984375 C 1 -3.640625 0.4375 -2.859375 0.4375 -1.984375 C 0.4375 -0.6875 1.484375 0.203125 2.9375 0.203125 C 3.84375 0.203125 4.828125 -0.203125 5.296875 -0.703125 C 5.359375 -0.421875 5.984375 0.09375 6.546875 0.09375 C 6.78125 0.09375 6.96875 0.0625 7.453125 -0.0625 Z M 5.1875 -2.609375 C 5.1875 -1.578125 4.296875 -1.0625 3.171875 -1.0625 C 2.28125 -1.0625 1.890625 -1.234375 1.890625 -2.015625 C 1.890625 -2.765625 2.28125 -2.96875 3.5 -3.15625 C 4.703125 -3.3125 4.953125 -3.375 5.1875 -3.484375 Z M 5.1875 -2.609375 \"/>\n",
       "</symbol>\n",
       "<symbol overflow=\"visible\" id=\"glyph3-9\">\n",
       "<path style=\"stroke:none;\" d=\"M 10.53125 -0.125 L 10.53125 -5.515625 C 10.53125 -6.796875 9.703125 -7.640625 8.359375 -7.640625 C 7.40625 -7.640625 6.734375 -7.3125 6.171875 -6.640625 C 5.8125 -7.28125 5.15625 -7.640625 4.21875 -7.640625 C 3.265625 -7.640625 2.53125 -7.25 1.921875 -6.390625 L 2.140625 -6.296875 L 2.140625 -7.4375 L 0.828125 -7.4375 L 0.828125 0 L 2.234375 0 L 2.234375 -4.625 C 2.234375 -5.671875 2.859375 -6.390625 3.796875 -6.390625 C 4.640625 -6.390625 4.984375 -5.984375 4.984375 -5.0625 L 4.984375 0 L 6.390625 0 L 6.390625 -4.625 C 6.390625 -5.671875 7.03125 -6.390625 7.96875 -6.390625 C 8.796875 -6.390625 9.140625 -5.96875 9.140625 -5.0625 L 9.140625 0 L 10.53125 0 Z M 10.53125 -0.125 \"/>\n",
       "</symbol>\n",
       "<symbol overflow=\"visible\" id=\"glyph3-10\">\n",
       "<path style=\"stroke:none;\" d=\"\"/>\n",
       "</symbol>\n",
       "<symbol overflow=\"visible\" id=\"glyph3-11\">\n",
       "<path style=\"stroke:none;\" d=\"M 3.65625 -6.375 L 3.65625 -7.4375 L 2.46875 -7.4375 L 2.46875 -8.421875 C 2.46875 -8.90625 2.625 -9.03125 3.140625 -9.03125 C 3.234375 -9.03125 3.28125 -9.03125 3.65625 -9 L 3.65625 -10.1875 C 3.28125 -10.28125 3.125 -10.296875 2.890625 -10.296875 C 1.84375 -10.296875 1.0625 -9.546875 1.0625 -8.515625 L 1.0625 -7.4375 L 0.109375 -7.4375 L 0.109375 -6.25 L 1.0625 -6.25 L 1.0625 0 L 2.46875 0 L 2.46875 -6.25 L 3.65625 -6.25 Z M 3.65625 -6.375 \"/>\n",
       "</symbol>\n",
       "<symbol overflow=\"visible\" id=\"glyph3-12\">\n",
       "<path style=\"stroke:none;\" d=\"M 9.421875 -0.125 L 9.421875 -0.5 C 8.90625 -0.859375 8.84375 -1.125 8.828125 -2.453125 C 8.796875 -4.09375 8.421875 -4.734375 7.34375 -5.1875 L 7.34375 -4.9375 C 8.46875 -5.484375 9.046875 -6.296875 9.046875 -7.4375 C 9.046875 -9.171875 7.84375 -10.25 5.875 -10.25 L 1.140625 -10.25 L 1.140625 0 L 2.671875 0 L 2.671875 -4.296875 L 5.84375 -4.296875 C 6.96875 -4.296875 7.359375 -3.875 7.34375 -2.640625 L 7.328125 -1.75 C 7.3125 -1.140625 7.4375 -0.53125 7.671875 0 L 9.421875 0 Z M 7.453125 -7.265625 C 7.453125 -6.078125 6.984375 -5.6875 5.625 -5.6875 L 2.671875 -5.6875 L 2.671875 -8.859375 L 5.625 -8.859375 C 7.0625 -8.859375 7.453125 -8.390625 7.453125 -7.265625 Z M 7.453125 -7.265625 \"/>\n",
       "</symbol>\n",
       "<symbol overflow=\"visible\" id=\"glyph3-13\">\n",
       "<path style=\"stroke:none;\" d=\"M 6.796875 -0.125 L 6.796875 -5.546875 C 6.796875 -6.734375 5.78125 -7.640625 4.40625 -7.640625 C 3.328125 -7.640625 2.546875 -7.1875 1.921875 -6.1875 L 2.140625 -6.09375 L 2.140625 -7.4375 L 0.828125 -7.4375 L 0.828125 0 L 2.21875 0 L 2.21875 -4.078125 C 2.21875 -5.546875 2.890625 -6.390625 4.0625 -6.390625 C 4.953125 -6.390625 5.40625 -5.953125 5.40625 -5.09375 L 5.40625 0 L 6.796875 0 Z M 6.796875 -0.125 \"/>\n",
       "</symbol>\n",
       "</g>\n",
       "<clipPath id=\"clip1\">\n",
       "  <path d=\"M 50.375 25.304688 L 283 25.304688 L 283 182 L 50.375 182 Z M 50.375 25.304688 \"/>\n",
       "</clipPath>\n",
       "<clipPath id=\"clip2\">\n",
       "  <path d=\"M 50.375 153 L 283 153 L 283 154 L 50.375 154 Z M 50.375 153 \"/>\n",
       "</clipPath>\n",
       "<clipPath id=\"clip3\">\n",
       "  <path d=\"M 50.375 111 L 283 111 L 283 113 L 50.375 113 Z M 50.375 111 \"/>\n",
       "</clipPath>\n",
       "<clipPath id=\"clip4\">\n",
       "  <path d=\"M 50.375 70 L 283 70 L 283 71 L 50.375 71 Z M 50.375 70 \"/>\n",
       "</clipPath>\n",
       "<clipPath id=\"clip5\">\n",
       "  <path d=\"M 50.375 28 L 283 28 L 283 30 L 50.375 30 Z M 50.375 28 \"/>\n",
       "</clipPath>\n",
       "<clipPath id=\"clip6\">\n",
       "  <path d=\"M 95 25.304688 L 97 25.304688 L 97 182 L 95 182 Z M 95 25.304688 \"/>\n",
       "</clipPath>\n",
       "<clipPath id=\"clip7\">\n",
       "  <path d=\"M 142 25.304688 L 144 25.304688 L 144 182 L 142 182 Z M 142 25.304688 \"/>\n",
       "</clipPath>\n",
       "<clipPath id=\"clip8\">\n",
       "  <path d=\"M 189 25.304688 L 191 25.304688 L 191 182 L 189 182 Z M 189 25.304688 \"/>\n",
       "</clipPath>\n",
       "<clipPath id=\"clip9\">\n",
       "  <path d=\"M 236 25.304688 L 238 25.304688 L 238 182 L 236 182 Z M 236 25.304688 \"/>\n",
       "</clipPath>\n",
       "<clipPath id=\"clip10\">\n",
       "  <path d=\"M 50.375 173 L 283.519531 173 L 283.519531 176 L 50.375 176 Z M 50.375 173 \"/>\n",
       "</clipPath>\n",
       "<clipPath id=\"clip11\">\n",
       "  <path d=\"M 50.375 132 L 283.519531 132 L 283.519531 134 L 50.375 134 Z M 50.375 132 \"/>\n",
       "</clipPath>\n",
       "<clipPath id=\"clip12\">\n",
       "  <path d=\"M 50.375 90 L 283.519531 90 L 283.519531 92 L 50.375 92 Z M 50.375 90 \"/>\n",
       "</clipPath>\n",
       "<clipPath id=\"clip13\">\n",
       "  <path d=\"M 50.375 49 L 283.519531 49 L 283.519531 51 L 50.375 51 Z M 50.375 49 \"/>\n",
       "</clipPath>\n",
       "<clipPath id=\"clip14\">\n",
       "  <path d=\"M 71 25.304688 L 74 25.304688 L 74 182.40625 L 71 182.40625 Z M 71 25.304688 \"/>\n",
       "</clipPath>\n",
       "<clipPath id=\"clip15\">\n",
       "  <path d=\"M 118 25.304688 L 121 25.304688 L 121 182.40625 L 118 182.40625 Z M 118 25.304688 \"/>\n",
       "</clipPath>\n",
       "<clipPath id=\"clip16\">\n",
       "  <path d=\"M 165 25.304688 L 168 25.304688 L 168 182.40625 L 165 182.40625 Z M 165 25.304688 \"/>\n",
       "</clipPath>\n",
       "<clipPath id=\"clip17\">\n",
       "  <path d=\"M 212 25.304688 L 215 25.304688 L 215 182.40625 L 212 182.40625 Z M 212 25.304688 \"/>\n",
       "</clipPath>\n",
       "<clipPath id=\"clip18\">\n",
       "  <path d=\"M 259 25.304688 L 261 25.304688 L 261 182.40625 L 259 182.40625 Z M 259 25.304688 \"/>\n",
       "</clipPath>\n",
       "</defs>\n",
       "<g id=\"surface722\">\n",
       "<rect x=\"0\" y=\"0\" width=\"288\" height=\"216\" style=\"fill:rgb(100%,100%,100%);fill-opacity:1;stroke:none;\"/>\n",
       "<rect x=\"0\" y=\"0\" width=\"288\" height=\"216\" style=\"fill:rgb(100%,100%,100%);fill-opacity:1;stroke:none;\"/>\n",
       "<path style=\"fill:none;stroke-width:1.422638;stroke-linecap:round;stroke-linejoin:round;stroke:rgb(100%,100%,100%);stroke-opacity:1;stroke-miterlimit:10;\" d=\"M 0 0 L 288 0 L 288 216 L 0 216 Z M 0 0 \"/>\n",
       "<g clip-path=\"url(#clip1)\" clip-rule=\"nonzero\">\n",
       "<path style=\" stroke:none;fill-rule:nonzero;fill:rgb(92.156863%,92.156863%,92.156863%);fill-opacity:1;\" d=\"M 50.375 25.304688 L 282.519531 25.304688 L 282.519531 181.40625 L 50.375 181.40625 Z M 50.375 25.304688 \"/>\n",
       "</g>\n",
       "<g clip-path=\"url(#clip2)\" clip-rule=\"nonzero\">\n",
       "<path style=\"fill:none;stroke-width:0.711319;stroke-linecap:butt;stroke-linejoin:round;stroke:rgb(100%,100%,100%);stroke-opacity:1;stroke-miterlimit:10;\" d=\"M 50.375 153.546875 L 282.519531 153.546875 \"/>\n",
       "</g>\n",
       "<g clip-path=\"url(#clip3)\" clip-rule=\"nonzero\">\n",
       "<path style=\"fill:none;stroke-width:0.711319;stroke-linecap:butt;stroke-linejoin:round;stroke:rgb(100%,100%,100%);stroke-opacity:1;stroke-miterlimit:10;\" d=\"M 50.375 112.023438 L 282.519531 112.023438 \"/>\n",
       "</g>\n",
       "<g clip-path=\"url(#clip4)\" clip-rule=\"nonzero\">\n",
       "<path style=\"fill:none;stroke-width:0.711319;stroke-linecap:butt;stroke-linejoin:round;stroke:rgb(100%,100%,100%);stroke-opacity:1;stroke-miterlimit:10;\" d=\"M 50.375 70.496094 L 282.519531 70.496094 \"/>\n",
       "</g>\n",
       "<g clip-path=\"url(#clip5)\" clip-rule=\"nonzero\">\n",
       "<path style=\"fill:none;stroke-width:0.711319;stroke-linecap:butt;stroke-linejoin:round;stroke:rgb(100%,100%,100%);stroke-opacity:1;stroke-miterlimit:10;\" d=\"M 50.375 28.96875 L 282.519531 28.96875 \"/>\n",
       "</g>\n",
       "<g clip-path=\"url(#clip6)\" clip-rule=\"nonzero\">\n",
       "<path style=\"fill:none;stroke-width:0.711319;stroke-linecap:butt;stroke-linejoin:round;stroke:rgb(100%,100%,100%);stroke-opacity:1;stroke-miterlimit:10;\" d=\"M 96.101562 181.40625 L 96.101562 25.304688 \"/>\n",
       "</g>\n",
       "<g clip-path=\"url(#clip7)\" clip-rule=\"nonzero\">\n",
       "<path style=\"fill:none;stroke-width:0.711319;stroke-linecap:butt;stroke-linejoin:round;stroke:rgb(100%,100%,100%);stroke-opacity:1;stroke-miterlimit:10;\" d=\"M 143 181.40625 L 143 25.304688 \"/>\n",
       "</g>\n",
       "<g clip-path=\"url(#clip8)\" clip-rule=\"nonzero\">\n",
       "<path style=\"fill:none;stroke-width:0.711319;stroke-linecap:butt;stroke-linejoin:round;stroke:rgb(100%,100%,100%);stroke-opacity:1;stroke-miterlimit:10;\" d=\"M 189.898438 181.40625 L 189.898438 25.304688 \"/>\n",
       "</g>\n",
       "<g clip-path=\"url(#clip9)\" clip-rule=\"nonzero\">\n",
       "<path style=\"fill:none;stroke-width:0.711319;stroke-linecap:butt;stroke-linejoin:round;stroke:rgb(100%,100%,100%);stroke-opacity:1;stroke-miterlimit:10;\" d=\"M 236.796875 181.40625 L 236.796875 25.304688 \"/>\n",
       "</g>\n",
       "<g clip-path=\"url(#clip10)\" clip-rule=\"nonzero\">\n",
       "<path style=\"fill:none;stroke-width:1.422638;stroke-linecap:butt;stroke-linejoin:round;stroke:rgb(100%,100%,100%);stroke-opacity:1;stroke-miterlimit:10;\" d=\"M 50.375 174.3125 L 282.519531 174.3125 \"/>\n",
       "</g>\n",
       "<g clip-path=\"url(#clip11)\" clip-rule=\"nonzero\">\n",
       "<path style=\"fill:none;stroke-width:1.422638;stroke-linecap:butt;stroke-linejoin:round;stroke:rgb(100%,100%,100%);stroke-opacity:1;stroke-miterlimit:10;\" d=\"M 50.375 132.785156 L 282.519531 132.785156 \"/>\n",
       "</g>\n",
       "<g clip-path=\"url(#clip12)\" clip-rule=\"nonzero\">\n",
       "<path style=\"fill:none;stroke-width:1.422638;stroke-linecap:butt;stroke-linejoin:round;stroke:rgb(100%,100%,100%);stroke-opacity:1;stroke-miterlimit:10;\" d=\"M 50.375 91.257812 L 282.519531 91.257812 \"/>\n",
       "</g>\n",
       "<g clip-path=\"url(#clip13)\" clip-rule=\"nonzero\">\n",
       "<path style=\"fill:none;stroke-width:1.422638;stroke-linecap:butt;stroke-linejoin:round;stroke:rgb(100%,100%,100%);stroke-opacity:1;stroke-miterlimit:10;\" d=\"M 50.375 49.734375 L 282.519531 49.734375 \"/>\n",
       "</g>\n",
       "<g clip-path=\"url(#clip14)\" clip-rule=\"nonzero\">\n",
       "<path style=\"fill:none;stroke-width:1.422638;stroke-linecap:butt;stroke-linejoin:round;stroke:rgb(100%,100%,100%);stroke-opacity:1;stroke-miterlimit:10;\" d=\"M 72.652344 181.40625 L 72.652344 25.304688 \"/>\n",
       "</g>\n",
       "<g clip-path=\"url(#clip15)\" clip-rule=\"nonzero\">\n",
       "<path style=\"fill:none;stroke-width:1.422638;stroke-linecap:butt;stroke-linejoin:round;stroke:rgb(100%,100%,100%);stroke-opacity:1;stroke-miterlimit:10;\" d=\"M 119.550781 181.40625 L 119.550781 25.304688 \"/>\n",
       "</g>\n",
       "<g clip-path=\"url(#clip16)\" clip-rule=\"nonzero\">\n",
       "<path style=\"fill:none;stroke-width:1.422638;stroke-linecap:butt;stroke-linejoin:round;stroke:rgb(100%,100%,100%);stroke-opacity:1;stroke-miterlimit:10;\" d=\"M 166.449219 181.40625 L 166.449219 25.304688 \"/>\n",
       "</g>\n",
       "<g clip-path=\"url(#clip17)\" clip-rule=\"nonzero\">\n",
       "<path style=\"fill:none;stroke-width:1.422638;stroke-linecap:butt;stroke-linejoin:round;stroke:rgb(100%,100%,100%);stroke-opacity:1;stroke-miterlimit:10;\" d=\"M 213.347656 181.40625 L 213.347656 25.304688 \"/>\n",
       "</g>\n",
       "<g clip-path=\"url(#clip18)\" clip-rule=\"nonzero\">\n",
       "<path style=\"fill:none;stroke-width:1.422638;stroke-linecap:butt;stroke-linejoin:round;stroke:rgb(100%,100%,100%);stroke-opacity:1;stroke-miterlimit:10;\" d=\"M 260.242188 181.40625 L 260.242188 25.304688 \"/>\n",
       "</g>\n",
       "<path style=\"fill-rule:nonzero;fill:rgb(0%,0%,100%);fill-opacity:0.2;stroke-width:1.422638;stroke-linecap:butt;stroke-linejoin:round;stroke:rgb(100%,0%,0%);stroke-opacity:1;stroke-miterlimit:10;\" d=\"M 60.929688 148.9375 L 84.378906 148.9375 L 84.378906 174.308594 L 60.929688 174.308594 Z M 60.929688 148.9375 \"/>\n",
       "<path style=\"fill:none;stroke-width:1.422638;stroke-linecap:butt;stroke-linejoin:round;stroke:rgb(100%,0%,0%);stroke-opacity:1;stroke-miterlimit:10;\" d=\"M 84.378906 174.3125 L 107.828125 174.3125 Z M 84.378906 174.3125 \"/>\n",
       "<path style=\"fill-rule:nonzero;fill:rgb(0%,0%,100%);fill-opacity:0.2;stroke-width:1.422638;stroke-linecap:butt;stroke-linejoin:round;stroke:rgb(100%,0%,0%);stroke-opacity:1;stroke-miterlimit:10;\" d=\"M 107.828125 127.097656 L 131.277344 127.097656 L 131.277344 174.3125 L 107.828125 174.3125 Z M 107.828125 127.097656 \"/>\n",
       "<path style=\"fill:none;stroke-width:1.422638;stroke-linecap:butt;stroke-linejoin:round;stroke:rgb(100%,0%,0%);stroke-opacity:1;stroke-miterlimit:10;\" d=\"M 131.273438 174.3125 L 154.722656 174.3125 Z M 131.273438 174.3125 \"/>\n",
       "<path style=\"fill-rule:nonzero;fill:rgb(0%,0%,100%);fill-opacity:0.2;stroke-width:1.422638;stroke-linecap:butt;stroke-linejoin:round;stroke:rgb(100%,0%,0%);stroke-opacity:1;stroke-miterlimit:10;\" d=\"M 154.722656 61.589844 L 178.171875 61.589844 L 178.171875 174.3125 L 154.722656 174.3125 Z M 154.722656 61.589844 \"/>\n",
       "<path style=\"fill:none;stroke-width:1.422638;stroke-linecap:butt;stroke-linejoin:round;stroke:rgb(100%,0%,0%);stroke-opacity:1;stroke-miterlimit:10;\" d=\"M 178.171875 174.3125 L 201.621094 174.3125 Z M 178.171875 174.3125 \"/>\n",
       "<path style=\"fill-rule:nonzero;fill:rgb(0%,0%,100%);fill-opacity:0.2;stroke-width:1.422638;stroke-linecap:butt;stroke-linejoin:round;stroke:rgb(100%,0%,0%);stroke-opacity:1;stroke-miterlimit:10;\" d=\"M 201.621094 32.398438 L 225.070312 32.398438 L 225.070312 174.308594 L 201.621094 174.308594 Z M 201.621094 32.398438 \"/>\n",
       "<path style=\"fill:none;stroke-width:1.422638;stroke-linecap:butt;stroke-linejoin:round;stroke:rgb(100%,0%,0%);stroke-opacity:1;stroke-miterlimit:10;\" d=\"M 225.070312 174.3125 L 248.519531 174.3125 Z M 225.070312 174.3125 \"/>\n",
       "<path style=\"fill-rule:nonzero;fill:rgb(0%,0%,100%);fill-opacity:0.2;stroke-width:1.422638;stroke-linecap:butt;stroke-linejoin:round;stroke:rgb(100%,0%,0%);stroke-opacity:1;stroke-miterlimit:10;\" d=\"M 248.519531 86.273438 L 271.96875 86.273438 L 271.96875 174.3125 L 248.519531 174.3125 Z M 248.519531 86.273438 \"/>\n",
       "<g style=\"fill:rgb(30.196078%,30.196078%,30.196078%);fill-opacity:1;\">\n",
       "  <use xlink:href=\"#glyph0-1\" x=\"40.277344\" y=\"177.84375\"/>\n",
       "</g>\n",
       "<g style=\"fill:rgb(30.196078%,30.196078%,30.196078%);fill-opacity:1;\">\n",
       "  <use xlink:href=\"#glyph0-2\" x=\"19.601562\" y=\"136.316406\"/>\n",
       "  <use xlink:href=\"#glyph0-1\" x=\"24.77063\" y=\"136.316406\"/>\n",
       "  <use xlink:href=\"#glyph0-1\" x=\"29.939697\" y=\"136.316406\"/>\n",
       "  <use xlink:href=\"#glyph0-1\" x=\"35.108765\" y=\"136.316406\"/>\n",
       "  <use xlink:href=\"#glyph0-1\" x=\"40.277832\" y=\"136.316406\"/>\n",
       "</g>\n",
       "<g style=\"fill:rgb(30.196078%,30.196078%,30.196078%);fill-opacity:1;\">\n",
       "  <use xlink:href=\"#glyph0-3\" x=\"19.601562\" y=\"94.789062\"/>\n",
       "  <use xlink:href=\"#glyph0-1\" x=\"24.77063\" y=\"94.789062\"/>\n",
       "  <use xlink:href=\"#glyph0-1\" x=\"29.939697\" y=\"94.789062\"/>\n",
       "  <use xlink:href=\"#glyph0-1\" x=\"35.108765\" y=\"94.789062\"/>\n",
       "  <use xlink:href=\"#glyph0-1\" x=\"40.277832\" y=\"94.789062\"/>\n",
       "</g>\n",
       "<g style=\"fill:rgb(30.196078%,30.196078%,30.196078%);fill-opacity:1;\">\n",
       "  <use xlink:href=\"#glyph0-4\" x=\"19.601562\" y=\"53.265625\"/>\n",
       "  <use xlink:href=\"#glyph0-1\" x=\"24.77063\" y=\"53.265625\"/>\n",
       "  <use xlink:href=\"#glyph0-1\" x=\"29.939697\" y=\"53.265625\"/>\n",
       "  <use xlink:href=\"#glyph0-1\" x=\"35.108765\" y=\"53.265625\"/>\n",
       "  <use xlink:href=\"#glyph0-1\" x=\"40.277832\" y=\"53.265625\"/>\n",
       "</g>\n",
       "<path style=\"fill:none;stroke-width:1.422638;stroke-linecap:butt;stroke-linejoin:round;stroke:rgb(20%,20%,20%);stroke-opacity:1;stroke-miterlimit:10;\" d=\"M 47.636719 174.3125 L 50.375 174.3125 \"/>\n",
       "<path style=\"fill:none;stroke-width:1.422638;stroke-linecap:butt;stroke-linejoin:round;stroke:rgb(20%,20%,20%);stroke-opacity:1;stroke-miterlimit:10;\" d=\"M 47.636719 132.785156 L 50.375 132.785156 \"/>\n",
       "<path style=\"fill:none;stroke-width:1.422638;stroke-linecap:butt;stroke-linejoin:round;stroke:rgb(20%,20%,20%);stroke-opacity:1;stroke-miterlimit:10;\" d=\"M 47.636719 91.257812 L 50.375 91.257812 \"/>\n",
       "<path style=\"fill:none;stroke-width:1.422638;stroke-linecap:butt;stroke-linejoin:round;stroke:rgb(20%,20%,20%);stroke-opacity:1;stroke-miterlimit:10;\" d=\"M 47.636719 49.734375 L 50.375 49.734375 \"/>\n",
       "<path style=\"fill:none;stroke-width:1.422638;stroke-linecap:butt;stroke-linejoin:round;stroke:rgb(20%,20%,20%);stroke-opacity:1;stroke-miterlimit:10;\" d=\"M 72.652344 184.144531 L 72.652344 181.40625 \"/>\n",
       "<path style=\"fill:none;stroke-width:1.422638;stroke-linecap:butt;stroke-linejoin:round;stroke:rgb(20%,20%,20%);stroke-opacity:1;stroke-miterlimit:10;\" d=\"M 119.550781 184.144531 L 119.550781 181.40625 \"/>\n",
       "<path style=\"fill:none;stroke-width:1.422638;stroke-linecap:butt;stroke-linejoin:round;stroke:rgb(20%,20%,20%);stroke-opacity:1;stroke-miterlimit:10;\" d=\"M 166.449219 184.144531 L 166.449219 181.40625 \"/>\n",
       "<path style=\"fill:none;stroke-width:1.422638;stroke-linecap:butt;stroke-linejoin:round;stroke:rgb(20%,20%,20%);stroke-opacity:1;stroke-miterlimit:10;\" d=\"M 213.347656 184.144531 L 213.347656 181.40625 \"/>\n",
       "<path style=\"fill:none;stroke-width:1.422638;stroke-linecap:butt;stroke-linejoin:round;stroke:rgb(20%,20%,20%);stroke-opacity:1;stroke-miterlimit:10;\" d=\"M 260.242188 184.144531 L 260.242188 181.40625 \"/>\n",
       "<g style=\"fill:rgb(30.196078%,30.196078%,30.196078%);fill-opacity:1;\">\n",
       "  <use xlink:href=\"#glyph0-2\" x=\"70.066406\" y=\"193.402344\"/>\n",
       "</g>\n",
       "<g style=\"fill:rgb(30.196078%,30.196078%,30.196078%);fill-opacity:1;\">\n",
       "  <use xlink:href=\"#glyph0-3\" x=\"116.964844\" y=\"193.402344\"/>\n",
       "</g>\n",
       "<g style=\"fill:rgb(30.196078%,30.196078%,30.196078%);fill-opacity:1;\">\n",
       "  <use xlink:href=\"#glyph0-4\" x=\"163.863281\" y=\"193.402344\"/>\n",
       "</g>\n",
       "<g style=\"fill:rgb(30.196078%,30.196078%,30.196078%);fill-opacity:1;\">\n",
       "  <use xlink:href=\"#glyph0-5\" x=\"210.761719\" y=\"193.402344\"/>\n",
       "</g>\n",
       "<g style=\"fill:rgb(30.196078%,30.196078%,30.196078%);fill-opacity:1;\">\n",
       "  <use xlink:href=\"#glyph0-6\" x=\"257.65625\" y=\"193.402344\"/>\n",
       "</g>\n",
       "<g style=\"fill:rgb(0%,0%,0%);fill-opacity:1;\">\n",
       "  <use xlink:href=\"#glyph1-1\" x=\"149.832031\" y=\"207.519531\"/>\n",
       "  <use xlink:href=\"#glyph1-2\" x=\"158.134949\" y=\"207.519531\"/>\n",
       "  <use xlink:href=\"#glyph1-3\" x=\"164.528885\" y=\"207.519531\"/>\n",
       "  <use xlink:href=\"#glyph1-4\" x=\"167.725845\" y=\"207.519531\"/>\n",
       "  <use xlink:href=\"#glyph1-5\" x=\"170.278824\" y=\"207.519531\"/>\n",
       "  <use xlink:href=\"#glyph1-6\" x=\"176.67276\" y=\"207.519531\"/>\n",
       "</g>\n",
       "<g style=\"fill:rgb(0%,0%,0%);fill-opacity:1;\">\n",
       "  <use xlink:href=\"#glyph2-1\" x=\"14.121094\" y=\"118.695312\"/>\n",
       "  <use xlink:href=\"#glyph2-2\" x=\"14.121094\" y=\"110.392395\"/>\n",
       "  <use xlink:href=\"#glyph2-3\" x=\"14.121094\" y=\"103.998459\"/>\n",
       "  <use xlink:href=\"#glyph2-4\" x=\"14.121094\" y=\"97.604523\"/>\n",
       "  <use xlink:href=\"#glyph2-5\" x=\"14.121094\" y=\"91.210587\"/>\n",
       "</g>\n",
       "<g style=\"fill:rgb(0%,0%,0%);fill-opacity:1;\">\n",
       "  <use xlink:href=\"#glyph3-1\" x=\"50.375\" y=\"15.730469\"/>\n",
       "  <use xlink:href=\"#glyph3-2\" x=\"60.268646\" y=\"15.730469\"/>\n",
       "  <use xlink:href=\"#glyph3-3\" x=\"63.31073\" y=\"15.730469\"/>\n",
       "  <use xlink:href=\"#glyph3-4\" x=\"70.162277\" y=\"15.730469\"/>\n",
       "  <use xlink:href=\"#glyph3-5\" x=\"73.971741\" y=\"15.730469\"/>\n",
       "  <use xlink:href=\"#glyph3-6\" x=\"81.590668\" y=\"15.730469\"/>\n",
       "  <use xlink:href=\"#glyph3-7\" x=\"89.209595\" y=\"15.730469\"/>\n",
       "  <use xlink:href=\"#glyph3-8\" x=\"93.772736\" y=\"15.730469\"/>\n",
       "  <use xlink:href=\"#glyph3-9\" x=\"101.391663\" y=\"15.730469\"/>\n",
       "  <use xlink:href=\"#glyph3-10\" x=\"112.806351\" y=\"15.730469\"/>\n",
       "  <use xlink:href=\"#glyph3-5\" x=\"116.615814\" y=\"15.730469\"/>\n",
       "  <use xlink:href=\"#glyph3-11\" x=\"124.234741\" y=\"15.730469\"/>\n",
       "  <use xlink:href=\"#glyph3-10\" x=\"128.044205\" y=\"15.730469\"/>\n",
       "  <use xlink:href=\"#glyph3-12\" x=\"131.853668\" y=\"15.730469\"/>\n",
       "  <use xlink:href=\"#glyph3-8\" x=\"141.747314\" y=\"15.730469\"/>\n",
       "  <use xlink:href=\"#glyph3-4\" x=\"149.366241\" y=\"15.730469\"/>\n",
       "  <use xlink:href=\"#glyph3-2\" x=\"153.175705\" y=\"15.730469\"/>\n",
       "  <use xlink:href=\"#glyph3-13\" x=\"156.217789\" y=\"15.730469\"/>\n",
       "  <use xlink:href=\"#glyph3-6\" x=\"163.836716\" y=\"15.730469\"/>\n",
       "  <use xlink:href=\"#glyph3-3\" x=\"171.455643\" y=\"15.730469\"/>\n",
       "</g>\n",
       "</g>\n",
       "</svg>\n"
      ]
     },
     "metadata": {
      "image/svg+xml": {
       "isolated": true
      }
     },
     "output_type": "display_data"
    }
   ],
   "source": [
    "ggplot(data=data, aes(data$rating)) + \n",
    "  geom_histogram( binwidth = 0.5, \n",
    "                 fill=I(\"blue\"), \n",
    "                 col=I(\"red\"), \n",
    "                 alpha=I(.2)) +\n",
    "labs(title=\"Histogram of Ratings\", x=\"Rating\", y=\"Count\") "
   ]
  },
  {
   "cell_type": "code",
   "execution_count": 6,
   "metadata": {},
   "outputs": [],
   "source": [
    "data_new = as(data, \"realRatingMatrix\")\n",
    "\n",
    "data_split = evaluationScheme(data_new, method=\"split\", train=0.7, goodRating=3, given=-1)\n",
    "train = getData(data_split, \"train\")\n",
    "test_X = getData(data_split, \"known\")\n",
    "test_Y = getData(data_split, \"unknown\")\n"
   ]
  },
  {
   "cell_type": "markdown",
   "metadata": {},
   "source": [
    "We have 100000 observations of movie ratings. The distribution of ratings is positive with most cases related to 4. As we can see in the figures, people tend to rank mostly with 4 and the average rating of the whole sample is 3.52986 ."
   ]
  },
  {
   "cell_type": "markdown",
   "metadata": {},
   "source": [
    "# Model 1: Random"
   ]
  },
  {
   "cell_type": "code",
   "execution_count": 11,
   "metadata": {},
   "outputs": [],
   "source": [
    "model_random = Recommender(train, method=\"RANDOM\")"
   ]
  },
  {
   "cell_type": "code",
   "execution_count": 12,
   "metadata": {},
   "outputs": [
    {
     "data": {
      "text/html": [
       "<dl class=dl-horizontal>\n",
       "\t<dt>RMSE</dt>\n",
       "\t\t<dd>1.49679015928395</dd>\n",
       "\t<dt>MSE</dt>\n",
       "\t\t<dd>2.24038078092928</dd>\n",
       "\t<dt>MAE</dt>\n",
       "\t\t<dd>1.13365873009859</dd>\n",
       "</dl>\n"
      ],
      "text/latex": [
       "\\begin{description*}\n",
       "\\item[RMSE] 1.49679015928395\n",
       "\\item[MSE] 2.24038078092928\n",
       "\\item[MAE] 1.13365873009859\n",
       "\\end{description*}\n"
      ],
      "text/markdown": [
       "RMSE\n",
       ":   1.49679015928395MSE\n",
       ":   2.24038078092928MAE\n",
       ":   1.13365873009859\n",
       "\n"
      ],
      "text/plain": [
       "    RMSE      MSE      MAE \n",
       "1.496790 2.240381 1.133659 "
      ]
     },
     "metadata": {},
     "output_type": "display_data"
    }
   ],
   "source": [
    "predicted_random = predict(model_random, test_X, type=\"ratings\")\n",
    "error_random = calcPredictionAccuracy(predicted_random, test_Y)\n",
    "error_random\n"
   ]
  },
  {
   "cell_type": "markdown",
   "metadata": {},
   "source": [
    "# Model 2: User-Based Collaborative Filtering"
   ]
  },
  {
   "cell_type": "code",
   "execution_count": 13,
   "metadata": {},
   "outputs": [],
   "source": [
    "model_user = Recommender(train, method=\"UBCF\")"
   ]
  },
  {
   "cell_type": "code",
   "execution_count": 14,
   "metadata": {},
   "outputs": [
    {
     "data": {
      "text/html": [
       "<dl class=dl-horizontal>\n",
       "\t<dt>RMSE</dt>\n",
       "\t\t<dd>1.01789045779739</dd>\n",
       "\t<dt>MSE</dt>\n",
       "\t\t<dd>1.03610098407499</dd>\n",
       "\t<dt>MAE</dt>\n",
       "\t\t<dd>0.823555467758179</dd>\n",
       "</dl>\n"
      ],
      "text/latex": [
       "\\begin{description*}\n",
       "\\item[RMSE] 1.01789045779739\n",
       "\\item[MSE] 1.03610098407499\n",
       "\\item[MAE] 0.823555467758179\n",
       "\\end{description*}\n"
      ],
      "text/markdown": [
       "RMSE\n",
       ":   1.01789045779739MSE\n",
       ":   1.03610098407499MAE\n",
       ":   0.823555467758179\n",
       "\n"
      ],
      "text/plain": [
       "     RMSE       MSE       MAE \n",
       "1.0178905 1.0361010 0.8235555 "
      ]
     },
     "metadata": {},
     "output_type": "display_data"
    }
   ],
   "source": [
    "predicted_user = predict(model_user, test_X, type=\"ratings\")\n",
    "error_user = calcPredictionAccuracy(predicted_user, test_Y)\n",
    "error_user"
   ]
  },
  {
   "cell_type": "markdown",
   "metadata": {},
   "source": [
    "# Model 3: Item-Based Collaborative Filtering"
   ]
  },
  {
   "cell_type": "code",
   "execution_count": 17,
   "metadata": {},
   "outputs": [],
   "source": [
    "model_item = Recommender(train, method=\"IBCF\")"
   ]
  },
  {
   "cell_type": "code",
   "execution_count": 18,
   "metadata": {},
   "outputs": [
    {
     "data": {
      "text/html": [
       "<dl class=dl-horizontal>\n",
       "\t<dt>RMSE</dt>\n",
       "\t\t<dd>1.20604537831105</dd>\n",
       "\t<dt>MSE</dt>\n",
       "\t\t<dd>1.45454545454545</dd>\n",
       "\t<dt>MAE</dt>\n",
       "\t\t<dd>0.863636363636364</dd>\n",
       "</dl>\n"
      ],
      "text/latex": [
       "\\begin{description*}\n",
       "\\item[RMSE] 1.20604537831105\n",
       "\\item[MSE] 1.45454545454545\n",
       "\\item[MAE] 0.863636363636364\n",
       "\\end{description*}\n"
      ],
      "text/markdown": [
       "RMSE\n",
       ":   1.20604537831105MSE\n",
       ":   1.45454545454545MAE\n",
       ":   0.863636363636364\n",
       "\n"
      ],
      "text/plain": [
       "     RMSE       MSE       MAE \n",
       "1.2060454 1.4545455 0.8636364 "
      ]
     },
     "metadata": {},
     "output_type": "display_data"
    }
   ],
   "source": [
    "predicted_item = predict(model_item, test_X, type=\"ratings\")\n",
    "error_item = calcPredictionAccuracy(predicted_item, test_Y)\n",
    "error_item"
   ]
  },
  {
   "cell_type": "markdown",
   "metadata": {},
   "source": [
    "We compared each method using a test set of observations. The model that perfomed better was the User-Based Collaborative model. It has the lowest RMSE. We could expect that the user and item based models woudld outperform the random model in advance. The user based model take into account user similar preferences in order to recomend items that were recommened by similar users. "
   ]
  },
  {
   "cell_type": "markdown",
   "metadata": {},
   "source": [
    "# Model 4: Matrix Factorization"
   ]
  },
  {
   "cell_type": "code",
   "execution_count": 19,
   "metadata": {},
   "outputs": [],
   "source": [
    "model_matrix = Recommender(train, method=\"SVD\")"
   ]
  },
  {
   "cell_type": "code",
   "execution_count": 20,
   "metadata": {},
   "outputs": [
    {
     "data": {
      "text/html": [
       "<dl class=dl-horizontal>\n",
       "\t<dt>RMSE</dt>\n",
       "\t\t<dd>0.98936700283665</dd>\n",
       "\t<dt>MSE</dt>\n",
       "\t\t<dd>0.978847066301977</dd>\n",
       "\t<dt>MAE</dt>\n",
       "\t\t<dd>0.79675307619844</dd>\n",
       "</dl>\n"
      ],
      "text/latex": [
       "\\begin{description*}\n",
       "\\item[RMSE] 0.98936700283665\n",
       "\\item[MSE] 0.978847066301977\n",
       "\\item[MAE] 0.79675307619844\n",
       "\\end{description*}\n"
      ],
      "text/markdown": [
       "RMSE\n",
       ":   0.98936700283665MSE\n",
       ":   0.978847066301977MAE\n",
       ":   0.79675307619844\n",
       "\n"
      ],
      "text/plain": [
       "     RMSE       MSE       MAE \n",
       "0.9893670 0.9788471 0.7967531 "
      ]
     },
     "metadata": {},
     "output_type": "display_data"
    }
   ],
   "source": [
    "predicted_matrix = predict(model_matrix, test_X, type=\"ratings\")\n",
    "error_matrix = calcPredictionAccuracy(predicted_matrix, test_Y)\n",
    "error_matrix"
   ]
  },
  {
   "cell_type": "code",
   "execution_count": 21,
   "metadata": {},
   "outputs": [
    {
     "name": "stdout",
     "output_type": "stream",
     "text": [
      "RANDOM run fold/sample [model time/prediction time]\n",
      "\t 1  [0.085sec/2.34sec] \n"
     ]
    },
    {
     "data": {
      "text/plain": [
       "[[1]]\n",
       "An object of class \"confusionMatrix\"\n",
       "Slot \"cm\":\n",
       "            TP       FP        FN       TN    precision      recall         TPR\n",
       "5  0.003533569 4.996466 0.8621908 1677.138 0.0007067138 0.004081633 0.004081633\n",
       "10 0.007067138 9.992933 0.8586572 1672.141 0.0007067138 0.008163265 0.008163265\n",
       "           FPR\n",
       "5  0.002970314\n",
       "10 0.005940627\n",
       "\n",
       "Slot \"model\":\n",
       "NULL\n",
       "\n"
      ]
     },
     "metadata": {},
     "output_type": "display_data"
    }
   ],
   "source": [
    "results_random = evaluate(data_split, method=\"RANDOM\", type=\"topNList\", n=c(5, 10))\n",
    "results_random@results"
   ]
  },
  {
   "cell_type": "code",
   "execution_count": 22,
   "metadata": {},
   "outputs": [
    {
     "name": "stdout",
     "output_type": "stream",
     "text": [
      "UBCF run fold/sample [model time/prediction time]\n",
      "\t 1  [0.155sec/6.678sec] \n"
     ]
    },
    {
     "data": {
      "text/plain": [
       "[[1]]\n",
       "An object of class \"confusionMatrix\"\n",
       "Slot \"cm\":\n",
       "           TP       FP        FN       TN   precision     recall        TPR\n",
       "5  0.02826855 4.971731 0.8374558 1677.163 0.005653710 0.03265306 0.03265306\n",
       "10 0.03180212 9.968198 0.8339223 1672.166 0.003180212 0.03673469 0.03673469\n",
       "           FPR\n",
       "5  0.002955608\n",
       "10 0.005925922\n",
       "\n",
       "Slot \"model\":\n",
       "NULL\n",
       "\n"
      ]
     },
     "metadata": {},
     "output_type": "display_data"
    }
   ],
   "source": [
    "results_user = evaluate(data_split, method=\"UBCF\", type=\"topNList\", n=c(5, 10))\n",
    "results_user@results"
   ]
  },
  {
   "cell_type": "code",
   "execution_count": 23,
   "metadata": {},
   "outputs": [
    {
     "name": "stdout",
     "output_type": "stream",
     "text": [
      "IBCF run fold/sample [model time/prediction time]\n",
      "\t 1  [59.654sec/0.676sec] \n"
     ]
    },
    {
     "data": {
      "text/plain": [
       "[[1]]\n",
       "An object of class \"confusionMatrix\"\n",
       "Slot \"cm\":\n",
       "            TP       FP        FN       TN    precision      recall         TPR\n",
       "5  0.003533569 4.996466 0.8621908 1677.138 0.0007067138 0.004081633 0.004081633\n",
       "10 0.003533569 9.996466 0.8621908 1672.138 0.0003533569 0.004081633 0.004081633\n",
       "           FPR\n",
       "5  0.002970314\n",
       "10 0.005942728\n",
       "\n",
       "Slot \"model\":\n",
       "NULL\n",
       "\n"
      ]
     },
     "metadata": {},
     "output_type": "display_data"
    }
   ],
   "source": [
    "results_item = evaluate(data_split, method=\"IBCF\", type=\"topNList\", n=c(5, 10))\n",
    "results_item@results"
   ]
  },
  {
   "cell_type": "code",
   "execution_count": 24,
   "metadata": {},
   "outputs": [
    {
     "name": "stdout",
     "output_type": "stream",
     "text": [
      "SVD run fold/sample [model time/prediction time]\n",
      "\t 1  [2.611sec/1.87sec] \n"
     ]
    },
    {
     "data": {
      "text/plain": [
       "[[1]]\n",
       "An object of class \"confusionMatrix\"\n",
       "Slot \"cm\":\n",
       "           TP       FP        FN       TN   precision     recall        TPR\n",
       "5  0.03180212 4.968198 0.8339223 1677.166 0.006360424 0.03673469 0.03673469\n",
       "10 0.05300353 9.946996 0.8127208 1672.187 0.005300353 0.06122449 0.06122449\n",
       "           FPR\n",
       "5  0.002953507\n",
       "10 0.005913317\n",
       "\n",
       "Slot \"model\":\n",
       "NULL\n",
       "\n"
      ]
     },
     "metadata": {},
     "output_type": "display_data"
    }
   ],
   "source": [
    "results_matrix = evaluate(data_split, method=\"SVD\", type=\"topNList\", n=c(5, 10))\n",
    "results_matrix@results"
   ]
  },
  {
   "cell_type": "markdown",
   "metadata": {},
   "source": [
    "The main difference we can find in the SVD model. It has a higher precision and recall compared to the user and itel collaborative models. It show us that despite the good general prediction among all observations it may not perform so well in some special unbalanced cases."
   ]
  },
  {
   "cell_type": "markdown",
   "metadata": {},
   "source": [
    "#  Top-`n` Predictions"
   ]
  },
  {
   "cell_type": "code",
   "execution_count": 28,
   "metadata": {},
   "outputs": [],
   "source": [
    "user_id = 10\n",
    "n = 10"
   ]
  },
  {
   "cell_type": "code",
   "execution_count": 27,
   "metadata": {},
   "outputs": [
    {
     "name": "stdout",
     "output_type": "stream",
     "text": [
      "Recommender of type ‘RANDOM’ for ‘realRatingMatrix’ \n",
      "learned using 660 users.\n",
      " 3  6 13 17 19 21 24 29 32 34 \n",
      " 5  5  5  5  5  5  5  5  5  5 \n",
      "Recommender of type ‘UBCF’ for ‘realRatingMatrix’ \n",
      "learned using 660 users.\n",
      "     313      286      302      272      269      304      258      316 \n",
      "4.852032 4.766831 4.649340 4.622363 4.588762 4.587095 4.570055 4.564316 \n",
      "     877      990 \n",
      "4.543260 4.539852 \n",
      "Recommender of type ‘IBCF’ for ‘realRatingMatrix’ \n",
      "learned using 660 users.\n",
      " 37  39  57 160 256 360 456 505 537 569 \n",
      "  5   5   5   5   5   5   5   5   5   5 \n",
      "Recommender of type ‘SVD’ for ‘realRatingMatrix’ \n",
      "learned using 660 users.\n",
      "     286       22      739       66      451      393      476      660 \n",
      "4.538444 4.533143 4.526056 4.512577 4.508604 4.507167 4.496858 4.496222 \n",
      "     258      125 \n",
      "4.492963 4.492663 \n"
     ]
    }
   ],
   "source": [
    "for (model in c(model_random, model_user, model_item, model_matrix)) {\n",
    "    # Get recs for model\n",
    "    user_recs = predict(model, test_X, n=n, type=\"ratings\")\n",
    "    \n",
    "    # Print the top n recs for that user\n",
    "    print(model)\n",
    "    print(user_recs@data[user_id,][order(-user_recs@data[user_id,])][c(1:n)])\n",
    "}"
   ]
  },
  {
   "cell_type": "markdown",
   "metadata": {},
   "source": [
    "In some cases makes sense but in some models we can see predictions on the extreme values. We can see the rating values in the second row of each model prediction. In the case of prediction to a certain company we could arrange a recomendation list according to this ordered prediction rating list. "
   ]
  }
 ],
 "metadata": {
  "kernelspec": {
   "display_name": "R",
   "language": "R",
   "name": "r"
  },
  "language_info": {
   "codemirror_mode": "r",
   "file_extension": ".r",
   "mimetype": "text/x-r-source",
   "name": "R",
   "pygments_lexer": "r",
   "version": "3.4.1"
  }
 },
 "nbformat": 4,
 "nbformat_minor": 2
}
